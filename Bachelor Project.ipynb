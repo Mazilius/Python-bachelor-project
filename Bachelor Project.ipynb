{
 "cells": [
  {
   "cell_type": "code",
   "execution_count": 36,
   "id": "577a3a85",
   "metadata": {},
   "outputs": [
    {
     "name": "stderr",
     "output_type": "stream",
     "text": [
      "[nltk_data] Downloading package stopwords to\n",
      "[nltk_data]     C:\\Users\\Mazlum\\AppData\\Roaming\\nltk_data...\n",
      "[nltk_data]   Package stopwords is already up-to-date!\n",
      "[nltk_data] Downloading package wordnet to\n",
      "[nltk_data]     C:\\Users\\Mazlum\\AppData\\Roaming\\nltk_data...\n",
      "[nltk_data]   Package wordnet is already up-to-date!\n"
     ]
    }
   ],
   "source": [
    "import os\n",
    "import tweepy as tw #Allows us to use the cursor\n",
    "import pandas as pd #Panda functions\n",
    "import numpy as np \n",
    "\n",
    "import statistics #For calculating the average\n",
    "from statistics import mean #For calculating the average \n",
    "\n",
    "import sqlalchemy \n",
    "from sqlalchemy import create_engine #Creates access to database\n",
    "\n",
    "import psycopg2 #Using it for the second cleaning table. \n",
    "\n",
    "import nltk\n",
    "from nltk.stem import WordNetLemmatizer \n",
    "from nltk.corpus import stopwords\n",
    "\n",
    "import matplotlib.pyplot as plt\n",
    "import seaborn as sns \n",
    "import itertools \n",
    "import collections \n",
    "from collections import Counter\n",
    "\n",
    "import re #cleaning the words. \n",
    "from textblob import TextBlob\n",
    "\n",
    "\n",
    "sns.set_style(\"darkgrid\") #For the bar plot. It designs the barplot visually. \n",
    "sns.set_context(\"poster\") #For the bar plot. It design the barplot visuallyy. \n",
    "\n",
    "nltk.download('stopwords') #Stopwords\n",
    "stop_words = set(stopwords.words('english')) #Sets the words to english \n",
    "\n",
    "nltk.download('wordnet') #wordnet for lemmatizer. Wordnet is the library that contains the words that is being lemmatized. \n",
    "lemmatizer = nltk.WordNetLemmatizer() "
   ]
  },
  {
   "cell_type": "code",
   "execution_count": 37,
   "id": "e1fcd8eb",
   "metadata": {},
   "outputs": [
    {
     "name": "stdout",
     "output_type": "stream",
     "text": [
      "Authentication OK\n"
     ]
    }
   ],
   "source": [
    "#Connect to Twitter by adding credentials\n",
    "#Add credentials here\n",
    "consumer_key = \"x"\n",
    "consumer_secret = \"x"\n",
    "access_token = \"x"\n",
    "access_token_secret = \"x"\n",
    "\n",
    "\n",
    "try:\n",
    "     #Access to API\n",
    "    auth = tw.OAuthHandler(consumer_key, consumer_secret)\n",
    "    auth.set_access_token(access_token, access_token_secret)\n",
    "    \n",
    "     #So error 429 does not occur\n",
    "    api = tw.API(auth, wait_on_rate_limit=True, wait_on_rate_limit_notify=True)\n",
    "    api.verify_credentials()\n",
    "    print(\"Authentication OK\")\n",
    "except:\n",
    "    print(\"Error during authentication\")"
   ]
  },
  {
   "cell_type": "code",
   "execution_count": 38,
   "id": "881bf18a",
   "metadata": {},
   "outputs": [
    {
     "name": "stdout",
     "output_type": "stream",
     "text": [
      "connected to database!\n"
     ]
    }
   ],
   "source": [
    "#Creates access to the database\n",
    "engine = create_engine('postgresql://postgres:[INSERT POSTGRES CODE HERE]@localhost:5432/twitter')\n",
    "print(\"connected to database!\")"
   ]
  },
  {
   "cell_type": "code",
   "execution_count": null,
   "id": "1fd3c1ba",
   "metadata": {},
   "outputs": [
    {
     "name": "stderr",
     "output_type": "stream",
     "text": [
      "Rate limit reached. Sleeping for: 331\n"
     ]
    }
   ],
   "source": [
    "search_term = \"Taiwan\" #The cursor allows us to search for tweets.\n",
    "tweets = tw.Cursor(api.search,\n",
    "                q=search_term + \"-filter:retweets\", #Filter removes tweets that are retweets\n",
    "                lang=\"en\", #Sets the language to english\n",
    "                result_type=\"recent\", #There are other result types, recent, mixed and popular. #That's why we choose it instead of streamlistener.\n",
    "                since='2021-05-19').items(500) #Since is the data, items is the amount we want. You can set it high, however the API will put you on wait limit for 15 minutes once your max has been reached.\n",
    "all_tweets = [[tweet.id, tweet.user.screen_name, tweet.text, tweet.favorite_count, tweet.user.location, search_term] for tweet in tweets] #Which objects we want in our data\n",
    "df = pd.DataFrame(data=all_tweets, columns=['ID', 'Username', 'Text', 'Likes', 'Location', 'Topic']) #Objects are then inserted into their respective columns. They have to be parallel with all tweets otherwise the data will be inserted into the wrong columns\n",
    "df.to_sql('tweetsv6', engine, if_exists='append') #A panda function that inserts the data into the table we have created. "
   ]
  },
  {
   "cell_type": "code",
   "execution_count": 4,
   "id": "b78afc62",
   "metadata": {},
   "outputs": [
    {
     "data": {
      "text/html": [
       "<div>\n",
       "<style scoped>\n",
       "    .dataframe tbody tr th:only-of-type {\n",
       "        vertical-align: middle;\n",
       "    }\n",
       "\n",
       "    .dataframe tbody tr th {\n",
       "        vertical-align: top;\n",
       "    }\n",
       "\n",
       "    .dataframe thead th {\n",
       "        text-align: right;\n",
       "    }\n",
       "</style>\n",
       "<table border=\"1\" class=\"dataframe\">\n",
       "  <thead>\n",
       "    <tr style=\"text-align: right;\">\n",
       "      <th></th>\n",
       "      <th>index</th>\n",
       "      <th>ID</th>\n",
       "      <th>Username</th>\n",
       "      <th>Text</th>\n",
       "      <th>Likes</th>\n",
       "      <th>Location</th>\n",
       "      <th>Topic</th>\n",
       "    </tr>\n",
       "  </thead>\n",
       "  <tbody>\n",
       "    <tr>\n",
       "      <th>38</th>\n",
       "      <td>43</td>\n",
       "      <td>1389350933063213057</td>\n",
       "      <td>Diana4Democracy</td>\n",
       "      <td>Modi's rightwing Bharatiya Janata party loses ...</td>\n",
       "      <td>0</td>\n",
       "      <td></td>\n",
       "      <td>India</td>\n",
       "    </tr>\n",
       "    <tr>\n",
       "      <th>77</th>\n",
       "      <td>533</td>\n",
       "      <td>1389348672807346181</td>\n",
       "      <td>nyczavon</td>\n",
       "      <td>My ❤  cries out loud for India God Bless You A...</td>\n",
       "      <td>0</td>\n",
       "      <td>La Marque, TX</td>\n",
       "      <td>India</td>\n",
       "    </tr>\n",
       "    <tr>\n",
       "      <th>117</th>\n",
       "      <td>649</td>\n",
       "      <td>1389348162691903496</td>\n",
       "      <td>Mokoni_</td>\n",
       "      <td>@DrZweliMkhize Ban flights from India!!!!</td>\n",
       "      <td>0</td>\n",
       "      <td>Jhb</td>\n",
       "      <td>India</td>\n",
       "    </tr>\n",
       "    <tr>\n",
       "      <th>197</th>\n",
       "      <td>650</td>\n",
       "      <td>1389348156635156480</td>\n",
       "      <td>Kaushikboy24</td>\n",
       "      <td>India need oxygen 🙏\\nPlease help each other an...</td>\n",
       "      <td>0</td>\n",
       "      <td></td>\n",
       "      <td>India</td>\n",
       "    </tr>\n",
       "    <tr>\n",
       "      <th>268</th>\n",
       "      <td>64</td>\n",
       "      <td>1389350555999514633</td>\n",
       "      <td>theenrium</td>\n",
       "      <td>There were differing accounts of the number of...</td>\n",
       "      <td>0</td>\n",
       "      <td></td>\n",
       "      <td>India</td>\n",
       "    </tr>\n",
       "    <tr>\n",
       "      <th>...</th>\n",
       "      <td>...</td>\n",
       "      <td>...</td>\n",
       "      <td>...</td>\n",
       "      <td>...</td>\n",
       "      <td>...</td>\n",
       "      <td>...</td>\n",
       "      <td>...</td>\n",
       "    </tr>\n",
       "    <tr>\n",
       "      <th>41446</th>\n",
       "      <td>495</td>\n",
       "      <td>1397535596512415745</td>\n",
       "      <td>PatsyMontana12</td>\n",
       "      <td>@JoeBiden Retired police officer, David Doren,...</td>\n",
       "      <td>0</td>\n",
       "      <td></td>\n",
       "      <td>George Floyd</td>\n",
       "    </tr>\n",
       "    <tr>\n",
       "      <th>41447</th>\n",
       "      <td>496</td>\n",
       "      <td>1397535567731167233</td>\n",
       "      <td>leake_michelle</td>\n",
       "      <td>https://t.co/QgHRaqERhJ  More #Violence by the...</td>\n",
       "      <td>0</td>\n",
       "      <td>Michigan, USA</td>\n",
       "      <td>George Floyd</td>\n",
       "    </tr>\n",
       "    <tr>\n",
       "      <th>41448</th>\n",
       "      <td>497</td>\n",
       "      <td>1397535558294020097</td>\n",
       "      <td>StillMyPrezDJT</td>\n",
       "      <td>Where will the statue of George Floyd be mounted?</td>\n",
       "      <td>1</td>\n",
       "      <td>Orlando, Florida</td>\n",
       "      <td>George Floyd</td>\n",
       "    </tr>\n",
       "    <tr>\n",
       "      <th>41449</th>\n",
       "      <td>498</td>\n",
       "      <td>1397535532893286408</td>\n",
       "      <td>CarlaChamorros</td>\n",
       "      <td>Socialism is self defeating: Just let them bur...</td>\n",
       "      <td>1</td>\n",
       "      <td>Granada</td>\n",
       "      <td>George Floyd</td>\n",
       "    </tr>\n",
       "    <tr>\n",
       "      <th>41450</th>\n",
       "      <td>499</td>\n",
       "      <td>1397535514627039234</td>\n",
       "      <td>FOX5Atlanta</td>\n",
       "      <td>May 25 marks one-year since a Minneapolis Poli...</td>\n",
       "      <td>3</td>\n",
       "      <td>Atlanta</td>\n",
       "      <td>George Floyd</td>\n",
       "    </tr>\n",
       "  </tbody>\n",
       "</table>\n",
       "<p>31014 rows × 7 columns</p>\n",
       "</div>"
      ],
      "text/plain": [
       "       index                   ID         Username  \\\n",
       "38        43  1389350933063213057  Diana4Democracy   \n",
       "77       533  1389348672807346181         nyczavon   \n",
       "117      649  1389348162691903496          Mokoni_   \n",
       "197      650  1389348156635156480     Kaushikboy24   \n",
       "268       64  1389350555999514633        theenrium   \n",
       "...      ...                  ...              ...   \n",
       "41446    495  1397535596512415745   PatsyMontana12   \n",
       "41447    496  1397535567731167233   leake_michelle   \n",
       "41448    497  1397535558294020097   StillMyPrezDJT   \n",
       "41449    498  1397535532893286408   CarlaChamorros   \n",
       "41450    499  1397535514627039234      FOX5Atlanta   \n",
       "\n",
       "                                                    Text  Likes  \\\n",
       "38     Modi's rightwing Bharatiya Janata party loses ...      0   \n",
       "77     My ❤  cries out loud for India God Bless You A...      0   \n",
       "117            @DrZweliMkhize Ban flights from India!!!!      0   \n",
       "197    India need oxygen 🙏\\nPlease help each other an...      0   \n",
       "268    There were differing accounts of the number of...      0   \n",
       "...                                                  ...    ...   \n",
       "41446  @JoeBiden Retired police officer, David Doren,...      0   \n",
       "41447  https://t.co/QgHRaqERhJ  More #Violence by the...      0   \n",
       "41448  Where will the statue of George Floyd be mounted?      1   \n",
       "41449  Socialism is self defeating: Just let them bur...      1   \n",
       "41450  May 25 marks one-year since a Minneapolis Poli...      3   \n",
       "\n",
       "               Location         Topic  \n",
       "38                              India  \n",
       "77        La Marque, TX         India  \n",
       "117                 Jhb         India  \n",
       "197                             India  \n",
       "268                             India  \n",
       "...                 ...           ...  \n",
       "41446                    George Floyd  \n",
       "41447     Michigan, USA  George Floyd  \n",
       "41448  Orlando, Florida  George Floyd  \n",
       "41449          Granada   George Floyd  \n",
       "41450           Atlanta  George Floyd  \n",
       "\n",
       "[31014 rows x 7 columns]"
      ]
     },
     "execution_count": 4,
     "metadata": {},
     "output_type": "execute_result"
    }
   ],
   "source": [
    "tweetsdb = pd.read_sql_query('SELECT * FROM \"tweetsv6\"', con=engine)# Allows us to read the sql data. \n",
    "tweetsdb.drop_duplicates(\"ID\", keep='last', inplace= True)#Duplicates are still in the table, however they just not shown with this function.\n",
    "tweetsdb #Reads the sql table without duplicates. "
   ]
  },
  {
   "cell_type": "code",
   "execution_count": 39,
   "id": "1985278b",
   "metadata": {},
   "outputs": [],
   "source": [
    "def clean(text):\n",
    "    #cleaned_tweet = \" \".join(re.sub(\"(@[A-Za-z0-9]+)|([^0-9A-Za-z \\t])|(\\w+:\\/\\/\\S+)\",\" \", str(text)).split())\n",
    "    cleaned_tweet = \" \".join(re.sub(\"(@[A-Za-z0-9]+)|(\\w+:\\/\\/\\S+)|#(\\w+)\",\" \", str(text)).split()) #Pattern matching. \n",
    "    #It converts the regex into text and thereafter splits it. \n",
    "    #We do have some signs we want to keep but not remove all of them.\n",
    "    #All the symbol who matches the pattern will be replaced with nothing. It is mentions, links and hashtags that is being removed.\n",
    "    #The text is then converted to string, otherwise it won't be read and thereafter splitte in order to be tokenized so it can be lemmatized.\n",
    "    #The join method joins them into one string. \n",
    "    return ' '.join([lemmatizer.lemmatize(i, 'n') \n",
    "                for i in cleaned_tweet.split() if i not in stop_words])\n",
    "    #We are lemmatizing nouns because that is the topics we want to search for. It is important the topics are in their root form(Cars should be car for exampåle)\n",
    "    #then all nouns will be lemmatized for all i's in cleaned_tweet.split(). Only if i is not in stop words however that is not the case so it removes all the nouns in a sentence."
   ]
  },
  {
   "cell_type": "code",
   "execution_count": 5,
   "id": "a0786e30",
   "metadata": {},
   "outputs": [
    {
     "data": {
      "text/plain": [
       "0        [modi's, rightwing, bharatiya, janata, party, ...\n",
       "1        [my, ❤, cry, loud, india, god, bless, you, all...\n",
       "2                                 [ban, flight, india!!!!]\n",
       "3        [india, need, oxygen, 🙏, please, help, stop, b...\n",
       "4        [there, differing, account, number, people, di...\n",
       "                               ...                        \n",
       "31009    [retired, police, officer,, david, doren,, mur...\n",
       "31010                           [more, left., denouncing…]\n",
       "31011             [where, statue, george, floyd, mounted?]\n",
       "31012    [socialism, self, defeating:, just, let, burn,...\n",
       "31013    [may, 25, mark, one-year, since, minneapolis, ...\n",
       "Length: 31014, dtype: object"
      ]
     },
     "execution_count": 5,
     "metadata": {},
     "output_type": "execute_result"
    }
   ],
   "source": [
    "no_urls_names = [clean(tweet) for tweet in tweetsdb['Text']] #We apply the function clean in this variable to the text in tweetsdb column\n",
    "pd.Series(no_urls_names).apply(lambda x: x.lower().split()) #Series is a list where we insert the first variable, no_urls_names in. We apply the lambda function x, so that all the words are lowered and splittet.\n",
    "#Lambda takes any form of arguments but have one expression which is : so our expression is to lower and split all x variables. "
   ]
  },
  {
   "cell_type": "markdown",
   "id": "b7471fb8",
   "metadata": {},
   "source": [
    "# With Stopwords"
   ]
  },
  {
   "cell_type": "code",
   "execution_count": 68,
   "id": "599d3d98",
   "metadata": {},
   "outputs": [],
   "source": [
    "words_in_tweet = [tweet.lower().split() for tweet in no_urls_names] #For each tweet in no_urls_names which contains our text, then the tweet is lowered and split."
   ]
  },
  {
   "cell_type": "code",
   "execution_count": 69,
   "id": "0da86b40",
   "metadata": {},
   "outputs": [],
   "source": [
    "all_words_no_urls = list(itertools.chain(*words_in_tweet)) #itertools creates the list in a faster method. * Is repition if the same word occur then it adds it in the list.\n",
    "counts_no_urls = collections.Counter(all_words_no_urls) #Counter counts the words how many times they occur. "
   ]
  },
  {
   "cell_type": "code",
   "execution_count": 70,
   "id": "12a35c65",
   "metadata": {},
   "outputs": [
    {
     "data": {
      "image/png": "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\n",
      "text/plain": [
       "<Figure size 1080x576 with 1 Axes>"
      ]
     },
     "metadata": {},
     "output_type": "display_data"
    }
   ],
   "source": [
    "tweets_with_stopwords_no_urls = pd.DataFrame(counts_no_urls.most_common(8), #It is inserted in another dataframe with 8 most common words with two columns\n",
    "                             columns=['words', 'count'])\n",
    "\n",
    "fig, ax = plt.subplots(figsize=(15, 8)) #plt plots a barplot with data.\n",
    "plt.bar('words', 'count', data=tweets_with_stopwords_no_urls, color = 'cyan') #data is given here\n",
    "plt.xlabel(\"Words\", size=15) # Size\n",
    "plt.ylabel(\"Count\", size=15) # Size\n",
    "plt.title(\"Barplot with Tweets that contains stopwords\", size=18)\n",
    "plt.show()"
   ]
  },
  {
   "cell_type": "markdown",
   "id": "5e738dc4",
   "metadata": {},
   "source": [
    "# Without stopwords"
   ]
  },
  {
   "cell_type": "code",
   "execution_count": 71,
   "id": "073ed584",
   "metadata": {},
   "outputs": [],
   "source": [
    "tweets_nsw = [[word for word in tweet_words if not word in stop_words]\n",
    "               for tweet_words in words_in_tweet] #Only do it for words that are not in stop words"
   ]
  },
  {
   "cell_type": "code",
   "execution_count": 72,
   "id": "1af7c6bb",
   "metadata": {},
   "outputs": [],
   "source": [
    "all_words_nsw = list(itertools.chain(*tweets_nsw)) #The same\n",
    "counts_nsw = collections.Counter(all_words_nsw) #The same"
   ]
  },
  {
   "cell_type": "code",
   "execution_count": 73,
   "id": "87e056bc",
   "metadata": {},
   "outputs": [
    {
     "data": {
      "image/png": "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\n",
      "text/plain": [
       "<Figure size 1080x576 with 1 Axes>"
      ]
     },
     "metadata": {},
     "output_type": "display_data"
    }
   ],
   "source": [
    "clean_tweets_nsw = pd.DataFrame(counts_nsw.most_common(8),\n",
    "                             columns=['words', 'count'])\n",
    "\n",
    "fig, ax = plt.subplots(figsize=(15, 8))\n",
    "\n",
    "plt.bar('words', 'count', data=clean_tweets_nsw, color = 'cyan')\n",
    "plt.xlabel(\"Words\", size=15)\n",
    "plt.ylabel(\"Count\", size=15)\n",
    "plt.title(\"Barplot with Tweets without stopwords\", size=18)\n",
    "plt.show()"
   ]
  },
  {
   "cell_type": "markdown",
   "id": "b320e04e",
   "metadata": {},
   "source": [
    "# Clean table"
   ]
  },
  {
   "cell_type": "code",
   "execution_count": 12,
   "id": "cdf646b0",
   "metadata": {},
   "outputs": [],
   "source": [
    "#Connection to database with parameters. \n",
    "conn = psycopg2.connect(\n",
    "    host=\"localhost\",\n",
    "    database=\"twitter\",\n",
    "    user=\"postgres\",\n",
    "    password=\"Ronaldo7\")\n",
    "\n",
    "for tweet in tweets_nsw: \n",
    "    for word in tweet:\n",
    "         if word not in tweetsdb['Topic']: #Is inserted into the table without stopwords and words that are not topics. \n",
    "            cur = conn.cursor()          \n",
    "            cur.execute('INSERT INTO filtered_tweet(topic, tweet) VALUES (%s, %s);', (word, tweet))\n",
    "            conn.commit()\n",
    "conn.close() "
   ]
  },
  {
   "cell_type": "code",
   "execution_count": 41,
   "id": "efd64d30",
   "metadata": {},
   "outputs": [
    {
     "data": {
      "text/html": [
       "<div>\n",
       "<style scoped>\n",
       "    .dataframe tbody tr th:only-of-type {\n",
       "        vertical-align: middle;\n",
       "    }\n",
       "\n",
       "    .dataframe tbody tr th {\n",
       "        vertical-align: top;\n",
       "    }\n",
       "\n",
       "    .dataframe thead th {\n",
       "        text-align: right;\n",
       "    }\n",
       "</style>\n",
       "<table border=\"1\" class=\"dataframe\">\n",
       "  <thead>\n",
       "    <tr style=\"text-align: right;\">\n",
       "      <th></th>\n",
       "      <th>ID</th>\n",
       "      <th>topic</th>\n",
       "      <th>tweet</th>\n",
       "    </tr>\n",
       "  </thead>\n",
       "  <tbody>\n",
       "    <tr>\n",
       "      <th>992</th>\n",
       "      <td>2558957</td>\n",
       "      <td>failed</td>\n",
       "      <td>{violence agreed central gov totally failed cu...</td>\n",
       "    </tr>\n",
       "    <tr>\n",
       "      <th>2268</th>\n",
       "      <td>2560218</td>\n",
       "      <td>failed</td>\n",
       "      <td>{well.... wow. pfizer world's government faile...</td>\n",
       "    </tr>\n",
       "    <tr>\n",
       "      <th>4453</th>\n",
       "      <td>2562391</td>\n",
       "      <td>failed</td>\n",
       "      <td>{want every american take hard look what’s hap...</td>\n",
       "    </tr>\n",
       "    <tr>\n",
       "      <th>7866</th>\n",
       "      <td>2565788</td>\n",
       "      <td>failed</td>\n",
       "      <td>{new post (india vaccine shortage last month g...</td>\n",
       "    </tr>\n",
       "    <tr>\n",
       "      <th>7881</th>\n",
       "      <td>2565803</td>\n",
       "      <td>failed</td>\n",
       "      <td>{covid-19 \"spreads \" india’s press freedom shr...</td>\n",
       "    </tr>\n",
       "    <tr>\n",
       "      <th>...</th>\n",
       "      <td>...</td>\n",
       "      <td>...</td>\n",
       "      <td>...</td>\n",
       "    </tr>\n",
       "    <tr>\n",
       "      <th>237638</th>\n",
       "      <td>2796195</td>\n",
       "      <td>failed</td>\n",
       "      <td>{noticed fucking china???? person failed world...</td>\n",
       "    </tr>\n",
       "    <tr>\n",
       "      <th>243517</th>\n",
       "      <td>2802097</td>\n",
       "      <td>failed</td>\n",
       "      <td>{hydrogen cars failed deliver. investors hope ...</td>\n",
       "    </tr>\n",
       "    <tr>\n",
       "      <th>247501</th>\n",
       "      <td>2806100</td>\n",
       "      <td>failed</td>\n",
       "      <td>{__carter desperate nic derek. bitcoin maxipad...</td>\n",
       "    </tr>\n",
       "    <tr>\n",
       "      <th>250620</th>\n",
       "      <td>2809229</td>\n",
       "      <td>failed</td>\n",
       "      <td>{desperate derek bitcoin maxipad . irritated k...</td>\n",
       "    </tr>\n",
       "    <tr>\n",
       "      <th>281374</th>\n",
       "      <td>2840066</td>\n",
       "      <td>failed</td>\n",
       "      <td>{crypto crash showed traditional financial exc...</td>\n",
       "    </tr>\n",
       "  </tbody>\n",
       "</table>\n",
       "<p>139 rows × 3 columns</p>\n",
       "</div>"
      ],
      "text/plain": [
       "             ID   topic                                              tweet\n",
       "992     2558957  failed  {violence agreed central gov totally failed cu...\n",
       "2268    2560218  failed  {well.... wow. pfizer world's government faile...\n",
       "4453    2562391  failed  {want every american take hard look what’s hap...\n",
       "7866    2565788  failed  {new post (india vaccine shortage last month g...\n",
       "7881    2565803  failed  {covid-19 \"spreads \" india’s press freedom shr...\n",
       "...         ...     ...                                                ...\n",
       "237638  2796195  failed  {noticed fucking china???? person failed world...\n",
       "243517  2802097  failed  {hydrogen cars failed deliver. investors hope ...\n",
       "247501  2806100  failed  {__carter desperate nic derek. bitcoin maxipad...\n",
       "250620  2809229  failed  {desperate derek bitcoin maxipad . irritated k...\n",
       "281374  2840066  failed  {crypto crash showed traditional financial exc...\n",
       "\n",
       "[139 rows x 3 columns]"
      ]
     },
     "execution_count": 41,
     "metadata": {},
     "output_type": "execute_result"
    }
   ],
   "source": [
    "filtered_db = pd.read_sql_query('SELECT * FROM \"filtered_tweet\"', con=engine)\n",
    "filtered_db.drop_duplicates(\"ID\", keep='last', inplace= True)\n",
    "\n",
    "#The filtered_group is assigned to the filtered_db by a groupby for the topic\n",
    "#Get_group will show all the tweets that contains the specific word that has been searched for, \n",
    "filtered_group = filtered_db.groupby(['topic'])\n",
    "filtered_group = filtered_group.get_group(\"failed\")\n",
    "filtered_group"
   ]
  },
  {
   "cell_type": "code",
   "execution_count": 18,
   "id": "7091dfa9",
   "metadata": {},
   "outputs": [
    {
     "data": {
      "text/plain": [
       "0                                            [{india, ?}]\n",
       "1             [{india, failed, country, compared, china}]\n",
       "2                              [{united, citizen, india}]\n",
       "3       [{modi's, rightwing, bharatiya, janata, party,...\n",
       "4                  [{❤, cry, loud, india, god, bless, 🙏}]\n",
       "                              ...                        \n",
       "1494    [{buy, cryptos, india, ?, tell, coinswitch, wa...\n",
       "1495    [{\"music, \", \"football, \", ancient, \"history, ...\n",
       "1496    [{_times, india, :, \"\\\"\", u, \", \", pls, help, ...\n",
       "1497    [{$tlc, -, taiwan, liposome, ink, deal, zydus,...\n",
       "1498    [{\"rallies, \", moment, silence, honour, george...\n",
       "Length: 1499, dtype: object"
      ]
     },
     "execution_count": 18,
     "metadata": {},
     "output_type": "execute_result"
    }
   ],
   "source": [
    "filtered_urls = [clean(tweet) for tweet in filtered_group['tweet']] #We apply the function clean in this variable to the tweet in filtered_group column\n",
    "pd.Series(filtered_urls).apply(lambda x: x.lower().split()) #Series is a list where we insert the first variable, no_urls_names in. We apply the lambda function x, so that all the words are lowered and splittet.\n",
    "#Lambda takes any form of arguments but have one expression which is : so our expression is to lower and split all x variables. "
   ]
  },
  {
   "cell_type": "code",
   "execution_count": 19,
   "id": "36e42967",
   "metadata": {},
   "outputs": [],
   "source": [
    "sent_obj = [TextBlob(tweet) for tweet in filtered_group.tweet] #TextBlob is applied to the filtered_group.tweet"
   ]
  },
  {
   "cell_type": "markdown",
   "id": "dd01d1cd",
   "metadata": {},
   "source": [
    "# Finding the average score"
   ]
  },
  {
   "cell_type": "code",
   "execution_count": 26,
   "id": "7d9dc830",
   "metadata": {},
   "outputs": [
    {
     "name": "stdout",
     "output_type": "stream",
     "text": [
      "The average score of the searched topic is: -0.0032826953872234035\n"
     ]
    }
   ],
   "source": [
    "li = []\n",
    "for sentence in sent_obj:\n",
    "    li.append(float(sentence.sentiment.polarity))\n",
    "print(\"The average score of the searched topic is:\", statistics.mean(li))"
   ]
  },
  {
   "cell_type": "markdown",
   "id": "c9f6b9d4",
   "metadata": {},
   "source": [
    "# Pie chart"
   ]
  },
  {
   "cell_type": "code",
   "execution_count": 30,
   "id": "81089a07",
   "metadata": {},
   "outputs": [],
   "source": [
    "pos_li = []\n",
    "neg_li = []\n",
    "neu_li = []\n",
    "for sentence in sent_obj:\n",
    "    if sentence.sentiment.polarity > 0:\n",
    "        pos_li.append(float(sentence.sentiment.polarity))\n",
    "    elif sentence.sentiment.polarity < 0:\n",
    "        neg_li.append(float(sentence.sentiment.polarity))\n",
    "    else:\n",
    "        neu_li.append(float(sentence.sentiment.polarity))"
   ]
  },
  {
   "cell_type": "code",
   "execution_count": 31,
   "id": "9adfb8cc",
   "metadata": {},
   "outputs": [],
   "source": [
    "plot_size = plt.rcParams[\"figure.figsize\"] \n",
    "plot_size[0] = 10\n",
    "plot_size[1] = 8\n",
    "plt.rcParams[\"figure.figsize\"] = plot_size "
   ]
  },
  {
   "cell_type": "code",
   "execution_count": 32,
   "id": "c15d7137",
   "metadata": {},
   "outputs": [
    {
     "data": {
      "text/plain": [
       "<function matplotlib.pyplot.show(close=None, block=None)>"
      ]
     },
     "execution_count": 32,
     "metadata": {},
     "output_type": "execute_result"
    },
    {
     "data": {
      "image/png": "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\n",
      "text/plain": [
       "<Figure size 720x576 with 1 Axes>"
      ]
     },
     "metadata": {},
     "output_type": "display_data"
    }
   ],
   "source": [
    "labels = \"Positive\", \"Negative\", \"Neutral\"\n",
    "sizes = [len(pos_li), len(neg_li), len(neu_li)]\n",
    "colors = ['green', 'red', 'lightskyblue']\n",
    "plt.pie(sizes, labels=labels, colors=colors,\n",
    "autopct='%.f%%', shadow=None, startangle=90) \n",
    "plt.axis('equal')\n",
    "plt.savefig(\"Piechart.png\")\n",
    "plt.show"
   ]
  },
  {
   "cell_type": "code",
   "execution_count": null,
   "id": "d114ad5b",
   "metadata": {},
   "outputs": [],
   "source": []
  }
 ],
 "metadata": {
  "kernelspec": {
   "display_name": "Python 3",
   "language": "python",
   "name": "python3"
  },
  "language_info": {
   "codemirror_mode": {
    "name": "ipython",
    "version": 3
   },
   "file_extension": ".py",
   "mimetype": "text/x-python",
   "name": "python",
   "nbconvert_exporter": "python",
   "pygments_lexer": "ipython3",
   "version": "3.9.2"
  }
 },
 "nbformat": 4,
 "nbformat_minor": 5
}
